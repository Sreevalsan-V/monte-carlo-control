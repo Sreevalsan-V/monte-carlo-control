{
  "cells": [
    {
      "cell_type": "markdown",
      "metadata": {
        "id": "view-in-github"
      },
      "source": [
        "<a href=\"https://colab.research.google.com/github/obedotto/monte-carlo-control/blob/main/MonteCarloControlExp.ipynb\" target=\"_parent\"><img src=\"https://colab.research.google.com/assets/colab-badge.svg\" alt=\"Open In Colab\"/></a>"
      ]
    },
    {
      "cell_type": "code",
      "execution_count": null,
      "metadata": {
        "id": "78_qXQtTeC87"
      },
      "outputs": [],
      "source": [
        "import warnings ; warnings.filterwarnings('ignore')\n",
        "\n",
        "import gym, gym_walk\n",
        "import numpy as np\n",
        "\n",
        "import random\n",
        "import warnings\n",
        "\n",
        "warnings.filterwarnings('ignore', category=DeprecationWarning)\n",
        "np.set_printoptions(suppress=True)\n",
        "random.seed(123); np.random.seed(123)"
      ]
    },
    {
      "cell_type": "code",
      "execution_count": null,
      "metadata": {
        "id": "cTWjcHm9eYrO",
        "colab": {
          "base_uri": "https://localhost:8080/"
        },
        "outputId": "cd87867f-36f8-453d-d431-e979a1ae7b6d"
      },
      "outputs": [
        {
          "output_type": "stream",
          "name": "stdout",
          "text": [
            "Collecting gym-walk\n",
            "  Cloning https://github.com/mimoralea/gym-walk to /tmp/pip-install-qtm74512/gym-walk_21ca28000c5d48e180e3c1bb1261df2f\n",
            "  Running command git clone --filter=blob:none --quiet https://github.com/mimoralea/gym-walk /tmp/pip-install-qtm74512/gym-walk_21ca28000c5d48e180e3c1bb1261df2f\n",
            "  Resolved https://github.com/mimoralea/gym-walk to commit 5999016267d6de2f5a63307fb00dfd63de319ac1\n",
            "  Preparing metadata (setup.py) ... \u001b[?25l\u001b[?25hdone\n",
            "Requirement already satisfied: gym in /usr/local/lib/python3.10/dist-packages (from gym-walk) (0.25.2)\n",
            "Requirement already satisfied: numpy>=1.18.0 in /usr/local/lib/python3.10/dist-packages (from gym->gym-walk) (1.25.2)\n",
            "Requirement already satisfied: cloudpickle>=1.2.0 in /usr/local/lib/python3.10/dist-packages (from gym->gym-walk) (2.2.1)\n",
            "Requirement already satisfied: gym-notices>=0.0.4 in /usr/local/lib/python3.10/dist-packages (from gym->gym-walk) (0.0.8)\n",
            "Building wheels for collected packages: gym-walk\n",
            "  Building wheel for gym-walk (setup.py) ... \u001b[?25l\u001b[?25hdone\n",
            "  Created wheel for gym-walk: filename=gym_walk-0.0.2-py3-none-any.whl size=4053 sha256=47e29794c919d851493f74eec56c80324983d01f87382e5c1e8b684c1842485e\n",
            "  Stored in directory: /tmp/pip-ephem-wheel-cache-l32my7yl/wheels/24/fe/c4/0cbc7511d29265bad7e28a09311db3f87f0cafba74af54d530\n",
            "Successfully built gym-walk\n",
            "Installing collected packages: gym-walk\n",
            "Successfully installed gym-walk-0.0.2\n"
          ]
        }
      ],
      "source": [
        "pip install git+https://github.com/mimoralea/gym-walk#egg=gym-walk"
      ]
    },
    {
      "cell_type": "code",
      "execution_count": null,
      "metadata": {
        "id": "Topbrx_BgxX4"
      },
      "outputs": [],
      "source": [
        "def print_policy(pi, P, action_symbols=('<', 'v', '>', '^'), n_cols=4, title='Policy:'):\n",
        "    print(title)\n",
        "    arrs = {k:v for k,v in enumerate(action_symbols)}\n",
        "    for s in range(len(P)):\n",
        "        a = pi[s]\n",
        "        print(\"| \", end=\"\")\n",
        "        if np.all([done for action in P[s].values() for _, _, _, done in action]):\n",
        "            print(\"\".rjust(9), end=\" \")\n",
        "        else:\n",
        "            print(str(s).zfill(2), arrs[a].rjust(6), end=\" \")\n",
        "        if (s + 1) % n_cols == 0: print(\"|\")"
      ]
    },
    {
      "cell_type": "code",
      "execution_count": null,
      "metadata": {
        "id": "x2pNtMsagzbG"
      },
      "outputs": [],
      "source": [
        "def print_state_value_function(V, P, n_cols=4, prec=3, title='State-value function:'):\n",
        "    print(title)\n",
        "    for s in range(len(P)):\n",
        "        v = V[s]\n",
        "        print(\"| \", end=\"\")\n",
        "        if np.all([done for action in P[s].values() for _, _, _, done in action]):\n",
        "            print(\"\".rjust(9), end=\" \")\n",
        "        else:\n",
        "            print(str(s).zfill(2), '{}'.format(np.round(v, prec)).rjust(6), end=\" \")\n",
        "        if (s + 1) % n_cols == 0: print(\"|\")"
      ]
    },
    {
      "cell_type": "code",
      "execution_count": null,
      "metadata": {
        "id": "bsH4lJu_em1V"
      },
      "outputs": [],
      "source": [
        "env = gym.make('FrozenLake-v1')\n",
        "P = env.env.P\n",
        "init_state = env.reset()\n",
        "#goal_state = 6\n",
        "#LEFT, RIGHT = range(2)"
      ]
    },
    {
      "cell_type": "code",
      "execution_count": null,
      "metadata": {
        "id": "XvFZSrzuW3Wf",
        "colab": {
          "base_uri": "https://localhost:8080/"
        },
        "outputId": "3aa97b2d-e5ff-40bc-8ef7-fcdac0077116"
      },
      "outputs": [
        {
          "output_type": "execute_result",
          "data": {
            "text/plain": [
              "{0: {0: [(0.3333333333333333, 0, 0.0, False),\n",
              "   (0.3333333333333333, 0, 0.0, False),\n",
              "   (0.3333333333333333, 4, 0.0, False)],\n",
              "  1: [(0.3333333333333333, 0, 0.0, False),\n",
              "   (0.3333333333333333, 4, 0.0, False),\n",
              "   (0.3333333333333333, 1, 0.0, False)],\n",
              "  2: [(0.3333333333333333, 4, 0.0, False),\n",
              "   (0.3333333333333333, 1, 0.0, False),\n",
              "   (0.3333333333333333, 0, 0.0, False)],\n",
              "  3: [(0.3333333333333333, 1, 0.0, False),\n",
              "   (0.3333333333333333, 0, 0.0, False),\n",
              "   (0.3333333333333333, 0, 0.0, False)]},\n",
              " 1: {0: [(0.3333333333333333, 1, 0.0, False),\n",
              "   (0.3333333333333333, 0, 0.0, False),\n",
              "   (0.3333333333333333, 5, 0.0, True)],\n",
              "  1: [(0.3333333333333333, 0, 0.0, False),\n",
              "   (0.3333333333333333, 5, 0.0, True),\n",
              "   (0.3333333333333333, 2, 0.0, False)],\n",
              "  2: [(0.3333333333333333, 5, 0.0, True),\n",
              "   (0.3333333333333333, 2, 0.0, False),\n",
              "   (0.3333333333333333, 1, 0.0, False)],\n",
              "  3: [(0.3333333333333333, 2, 0.0, False),\n",
              "   (0.3333333333333333, 1, 0.0, False),\n",
              "   (0.3333333333333333, 0, 0.0, False)]},\n",
              " 2: {0: [(0.3333333333333333, 2, 0.0, False),\n",
              "   (0.3333333333333333, 1, 0.0, False),\n",
              "   (0.3333333333333333, 6, 0.0, False)],\n",
              "  1: [(0.3333333333333333, 1, 0.0, False),\n",
              "   (0.3333333333333333, 6, 0.0, False),\n",
              "   (0.3333333333333333, 3, 0.0, False)],\n",
              "  2: [(0.3333333333333333, 6, 0.0, False),\n",
              "   (0.3333333333333333, 3, 0.0, False),\n",
              "   (0.3333333333333333, 2, 0.0, False)],\n",
              "  3: [(0.3333333333333333, 3, 0.0, False),\n",
              "   (0.3333333333333333, 2, 0.0, False),\n",
              "   (0.3333333333333333, 1, 0.0, False)]},\n",
              " 3: {0: [(0.3333333333333333, 3, 0.0, False),\n",
              "   (0.3333333333333333, 2, 0.0, False),\n",
              "   (0.3333333333333333, 7, 0.0, True)],\n",
              "  1: [(0.3333333333333333, 2, 0.0, False),\n",
              "   (0.3333333333333333, 7, 0.0, True),\n",
              "   (0.3333333333333333, 3, 0.0, False)],\n",
              "  2: [(0.3333333333333333, 7, 0.0, True),\n",
              "   (0.3333333333333333, 3, 0.0, False),\n",
              "   (0.3333333333333333, 3, 0.0, False)],\n",
              "  3: [(0.3333333333333333, 3, 0.0, False),\n",
              "   (0.3333333333333333, 3, 0.0, False),\n",
              "   (0.3333333333333333, 2, 0.0, False)]},\n",
              " 4: {0: [(0.3333333333333333, 0, 0.0, False),\n",
              "   (0.3333333333333333, 4, 0.0, False),\n",
              "   (0.3333333333333333, 8, 0.0, False)],\n",
              "  1: [(0.3333333333333333, 4, 0.0, False),\n",
              "   (0.3333333333333333, 8, 0.0, False),\n",
              "   (0.3333333333333333, 5, 0.0, True)],\n",
              "  2: [(0.3333333333333333, 8, 0.0, False),\n",
              "   (0.3333333333333333, 5, 0.0, True),\n",
              "   (0.3333333333333333, 0, 0.0, False)],\n",
              "  3: [(0.3333333333333333, 5, 0.0, True),\n",
              "   (0.3333333333333333, 0, 0.0, False),\n",
              "   (0.3333333333333333, 4, 0.0, False)]},\n",
              " 5: {0: [(1.0, 5, 0, True)],\n",
              "  1: [(1.0, 5, 0, True)],\n",
              "  2: [(1.0, 5, 0, True)],\n",
              "  3: [(1.0, 5, 0, True)]},\n",
              " 6: {0: [(0.3333333333333333, 2, 0.0, False),\n",
              "   (0.3333333333333333, 5, 0.0, True),\n",
              "   (0.3333333333333333, 10, 0.0, False)],\n",
              "  1: [(0.3333333333333333, 5, 0.0, True),\n",
              "   (0.3333333333333333, 10, 0.0, False),\n",
              "   (0.3333333333333333, 7, 0.0, True)],\n",
              "  2: [(0.3333333333333333, 10, 0.0, False),\n",
              "   (0.3333333333333333, 7, 0.0, True),\n",
              "   (0.3333333333333333, 2, 0.0, False)],\n",
              "  3: [(0.3333333333333333, 7, 0.0, True),\n",
              "   (0.3333333333333333, 2, 0.0, False),\n",
              "   (0.3333333333333333, 5, 0.0, True)]},\n",
              " 7: {0: [(1.0, 7, 0, True)],\n",
              "  1: [(1.0, 7, 0, True)],\n",
              "  2: [(1.0, 7, 0, True)],\n",
              "  3: [(1.0, 7, 0, True)]},\n",
              " 8: {0: [(0.3333333333333333, 4, 0.0, False),\n",
              "   (0.3333333333333333, 8, 0.0, False),\n",
              "   (0.3333333333333333, 12, 0.0, True)],\n",
              "  1: [(0.3333333333333333, 8, 0.0, False),\n",
              "   (0.3333333333333333, 12, 0.0, True),\n",
              "   (0.3333333333333333, 9, 0.0, False)],\n",
              "  2: [(0.3333333333333333, 12, 0.0, True),\n",
              "   (0.3333333333333333, 9, 0.0, False),\n",
              "   (0.3333333333333333, 4, 0.0, False)],\n",
              "  3: [(0.3333333333333333, 9, 0.0, False),\n",
              "   (0.3333333333333333, 4, 0.0, False),\n",
              "   (0.3333333333333333, 8, 0.0, False)]},\n",
              " 9: {0: [(0.3333333333333333, 5, 0.0, True),\n",
              "   (0.3333333333333333, 8, 0.0, False),\n",
              "   (0.3333333333333333, 13, 0.0, False)],\n",
              "  1: [(0.3333333333333333, 8, 0.0, False),\n",
              "   (0.3333333333333333, 13, 0.0, False),\n",
              "   (0.3333333333333333, 10, 0.0, False)],\n",
              "  2: [(0.3333333333333333, 13, 0.0, False),\n",
              "   (0.3333333333333333, 10, 0.0, False),\n",
              "   (0.3333333333333333, 5, 0.0, True)],\n",
              "  3: [(0.3333333333333333, 10, 0.0, False),\n",
              "   (0.3333333333333333, 5, 0.0, True),\n",
              "   (0.3333333333333333, 8, 0.0, False)]},\n",
              " 10: {0: [(0.3333333333333333, 6, 0.0, False),\n",
              "   (0.3333333333333333, 9, 0.0, False),\n",
              "   (0.3333333333333333, 14, 0.0, False)],\n",
              "  1: [(0.3333333333333333, 9, 0.0, False),\n",
              "   (0.3333333333333333, 14, 0.0, False),\n",
              "   (0.3333333333333333, 11, 0.0, True)],\n",
              "  2: [(0.3333333333333333, 14, 0.0, False),\n",
              "   (0.3333333333333333, 11, 0.0, True),\n",
              "   (0.3333333333333333, 6, 0.0, False)],\n",
              "  3: [(0.3333333333333333, 11, 0.0, True),\n",
              "   (0.3333333333333333, 6, 0.0, False),\n",
              "   (0.3333333333333333, 9, 0.0, False)]},\n",
              " 11: {0: [(1.0, 11, 0, True)],\n",
              "  1: [(1.0, 11, 0, True)],\n",
              "  2: [(1.0, 11, 0, True)],\n",
              "  3: [(1.0, 11, 0, True)]},\n",
              " 12: {0: [(1.0, 12, 0, True)],\n",
              "  1: [(1.0, 12, 0, True)],\n",
              "  2: [(1.0, 12, 0, True)],\n",
              "  3: [(1.0, 12, 0, True)]},\n",
              " 13: {0: [(0.3333333333333333, 9, 0.0, False),\n",
              "   (0.3333333333333333, 12, 0.0, True),\n",
              "   (0.3333333333333333, 13, 0.0, False)],\n",
              "  1: [(0.3333333333333333, 12, 0.0, True),\n",
              "   (0.3333333333333333, 13, 0.0, False),\n",
              "   (0.3333333333333333, 14, 0.0, False)],\n",
              "  2: [(0.3333333333333333, 13, 0.0, False),\n",
              "   (0.3333333333333333, 14, 0.0, False),\n",
              "   (0.3333333333333333, 9, 0.0, False)],\n",
              "  3: [(0.3333333333333333, 14, 0.0, False),\n",
              "   (0.3333333333333333, 9, 0.0, False),\n",
              "   (0.3333333333333333, 12, 0.0, True)]},\n",
              " 14: {0: [(0.3333333333333333, 10, 0.0, False),\n",
              "   (0.3333333333333333, 13, 0.0, False),\n",
              "   (0.3333333333333333, 14, 0.0, False)],\n",
              "  1: [(0.3333333333333333, 13, 0.0, False),\n",
              "   (0.3333333333333333, 14, 0.0, False),\n",
              "   (0.3333333333333333, 15, 1.0, True)],\n",
              "  2: [(0.3333333333333333, 14, 0.0, False),\n",
              "   (0.3333333333333333, 15, 1.0, True),\n",
              "   (0.3333333333333333, 10, 0.0, False)],\n",
              "  3: [(0.3333333333333333, 15, 1.0, True),\n",
              "   (0.3333333333333333, 10, 0.0, False),\n",
              "   (0.3333333333333333, 13, 0.0, False)]},\n",
              " 15: {0: [(1.0, 15, 0, True)],\n",
              "  1: [(1.0, 15, 0, True)],\n",
              "  2: [(1.0, 15, 0, True)],\n",
              "  3: [(1.0, 15, 0, True)]}}"
            ]
          },
          "metadata": {},
          "execution_count": 7
        }
      ],
      "source": [
        "P"
      ]
    },
    {
      "cell_type": "markdown",
      "metadata": {
        "id": "VMRhO7SEiccW"
      },
      "source": [
        "Exponentially decaying schedule\n"
      ]
    },
    {
      "cell_type": "code",
      "execution_count": null,
      "metadata": {
        "id": "P54uiWU4fPel"
      },
      "outputs": [],
      "source": [
        "def decay_schedule(\n",
        "    init_value, min_value, decay_ratio,\n",
        "    max_steps, log_start = -2, log_base=10):\n",
        "  decay_steps = int(max_steps*decay_ratio)\n",
        "  rem_steps=max_steps - decay_steps\n",
        "  values = np.logspace(log_start,0,decay_steps,base=log_base, endpoint=True)[::-1]\n",
        "  values=(values-values.min())/(values.max()-values.min())\n",
        "  values=(init_value- min_value)*values + min_value\n",
        "  values=np.pad(values, (0,rem_steps),\"edge\")\n",
        "  return values"
      ]
    },
    {
      "cell_type": "markdown",
      "metadata": {
        "id": "9vXx70YbinT9"
      },
      "source": [
        "Exploratory Policy Trajectories"
      ]
    },
    {
      "cell_type": "code",
      "execution_count": null,
      "metadata": {
        "id": "HpPgafD7iXSH"
      },
      "outputs": [],
      "source": [
        "from itertools import count\n",
        "import numpy as np\n",
        "\n",
        "def gen_traj(select_action,Q,epsilon,env,max_steps=200):\n",
        "    done,traj = False,[]\n",
        "\n",
        "    while not done:\n",
        "        state = env.reset()\n",
        "\n",
        "        for t in count():\n",
        "            action = select_action(state,Q,epsilon)\n",
        "            next,reward,done,_ = env.step(action)\n",
        "            exp = (state,action,reward,next,done)\n",
        "            traj.append(exp)\n",
        "\n",
        "            if done:\n",
        "                break\n",
        "            if t>=max_steps-1:\n",
        "                traj = []\n",
        "                break\n",
        "\n",
        "            state = next\n",
        "        return np.array(traj, object)"
      ]
    },
    {
      "cell_type": "markdown",
      "metadata": {
        "id": "5N1bFAXGuVIg"
      },
      "source": [
        "Monte Carlo control"
      ]
    },
    {
      "cell_type": "code",
      "execution_count": null,
      "metadata": {
        "id": "wy0rgMBxuaOP"
      },
      "outputs": [],
      "source": [
        "import numpy as np\n",
        "from tqdm import tqdm\n",
        "\n",
        "def mc_control(env, gamma=1.0, init_alpha=0.5, min_alpha=0.01, alpha_decay_ratio=0.5,\n",
        "               init_epsilon=1.0, min_epsilon=0.1, epsilon_decay_ratio=0.3,\n",
        "               n_episodes=3000, max_steps=200, first_visit=True):\n",
        "\n",
        "    nS, nA = env.observation_space.n, env.action_space.n\n",
        "\n",
        "    disc = np.logspace(0, max_steps, num=max_steps, base=gamma, endpoint=False)\n",
        "\n",
        "    def decay_schedule(init_value, min_value, decay_ratio, n):\n",
        "        return np.maximum(min_value, init_value * (decay_ratio ** np.arange(n)))\n",
        "\n",
        "    alphas = decay_schedule(init_alpha, min_alpha, alpha_decay_ratio, n_episodes)\n",
        "    epsilons = decay_schedule(init_epsilon, min_epsilon, epsilon_decay_ratio, n_episodes)\n",
        "\n",
        "    Q = np.zeros((nS, nA), dtype=np.float64)\n",
        "    Q_track = np.zeros((n_episodes, nS, nA), dtype=np.float64)\n",
        "    def select_action(state, Q, epsilon):\n",
        "        return np.argmax(Q[state]) if np.random.random() > epsilon else np.random.randint(nA)\n",
        "\n",
        "    for e in tqdm(range(n_episodes), leave=False):\n",
        "        traj = gen_traj(select_action, Q, epsilons[e], env, max_steps)\n",
        "        visited = np.zeros((nS, nA), dtype=bool)\n",
        "\n",
        "        for t, (state, action, reward, _, _) in enumerate(traj):\n",
        "            if visited[state][action] and first_visit:\n",
        "                continue\n",
        "            visited[state][action] = True\n",
        "\n",
        "            n_steps = len(traj[t:])\n",
        "            G = np.sum(disc[:n_steps] * traj[t:, 2])\n",
        "            Q[state][action] = Q[state][action] + alphas[e] * (G - Q[state][action])\n",
        "\n",
        "        Q_track[e] = Q\n",
        "\n",
        "    V = np.max(Q, axis=1)\n",
        "    pi = {s: np.argmax(Q[s]) for s in range(nS)}\n",
        "\n",
        "    return Q, V, pi"
      ]
    },
    {
      "cell_type": "code",
      "execution_count": null,
      "metadata": {
        "id": "eFPSooQdOuir",
        "colab": {
          "base_uri": "https://localhost:8080/"
        },
        "outputId": "58b5679b-477b-4689-e97a-a1fa0df909fe"
      },
      "outputs": [
        {
          "output_type": "stream",
          "name": "stderr",
          "text": []
        },
        {
          "output_type": "stream",
          "name": "stdout",
          "text": [
            "developed by Sreevalsan\n",
            "REGISTER N0:212223240158\n",
            "Action-value function:\n",
            "| 00 [0. 0. 0. 0.] | 01 [0. 0. 0. 0.] | 02 [0. 0. 0. 0.] | 03 [0. 0. 0. 0.] |\n",
            "| 04 [0. 0. 0. 0.] |           | 06 [0. 0. 0. 0.] |           |\n",
            "| 08 [0. 0. 0. 0.] | 09 [0. 0. 0. 0.] | 10 [0. 0. 0. 0.] |           |\n",
            "|           | 13 [0. 0. 0. 0.] | 14 [0. 0. 0. 0.] |           |\n",
            "State-value function:\n",
            "| 00    0.0 | 01    0.0 | 02    0.0 | 03    0.0 |\n",
            "| 04    0.0 |           | 06    0.0 |           |\n",
            "| 08    0.0 | 09    0.0 | 10    0.0 |           |\n",
            "|           | 13    0.0 | 14    0.0 |           |\n",
            "Policy:\n",
            "| 00      < | 01      < | 02      < | 03      < |\n",
            "| 04      < |           | 06      < |           |\n",
            "| 08      < | 09      < | 10      < |           |\n",
            "|           | 13      < | 14      < |           |\n"
          ]
        }
      ],
      "source": [
        "optimal_Q, optimal_V, optimal_pi = mc_control (env)\n",
        "print(\"developed by Sreevalsan\")\n",
        "print(\"REGISTER N0:212223240158\")\n",
        "print_state_value_function(optimal_Q, P, n_cols=4, prec=2, title='Action-value function:')\n",
        "print_state_value_function(optimal_V, P, n_cols=4, prec=2, title='State-value function:')\n",
        "print_policy(optimal_pi, P)"
      ]
    },
    {
      "cell_type": "code",
      "source": [
        "import random\n",
        "import numpy as np\n",
        "\n",
        "def probability_success(env, pi, goal_state, n_episodes=100, max_steps=200, seed=123):\n",
        "    random.seed(seed)\n",
        "    np.random.seed(seed)\n",
        "    env.seed(seed)\n",
        "    results = []\n",
        "\n",
        "    for _ in range(n_episodes):\n",
        "        state, done, steps = env.reset(), False, 0\n",
        "        while not done and steps < max_steps:\n",
        "            action = pi[state]\n",
        "            state, _, done, _ = env.step(action)\n",
        "            steps += 1\n",
        "        results.append(state == goal_state)\n",
        "\n",
        "    success_rate = np.sum(results) / len(results)\n",
        "    return success_rate\n",
        "\n",
        "def mean_return(env, pi, n_episodes=100, max_steps=200, seed=123):\n",
        "    random.seed(seed)\n",
        "    np.random.seed(seed)\n",
        "    env.seed(seed)\n",
        "    results = []\n",
        "\n",
        "    for _ in range(n_episodes):\n",
        "        state, done, steps = env.reset(), False, 0\n",
        "        returns = 0.0\n",
        "        while not done and steps < max_steps:\n",
        "            action = pi[state]\n",
        "            state, reward, done, _ = env.step(action)\n",
        "            returns += reward\n",
        "            steps += 1\n",
        "        results.append(returns)\n",
        "\n",
        "    average_return = np.mean(results)\n",
        "    return average_return\n",
        "\n",
        "def results(env, optimal_pi, goal_state, seed=123):\n",
        "    success_rate = probability_success(env, optimal_pi, goal_state=goal_state, seed=seed)\n",
        "    avg_return = mean_return(env, optimal_pi, seed=seed)\n",
        "\n",
        "    print(f'Reaches goal {success_rate:.2%}.Obtains an average undiscounted return of: {avg_return:.4f}.')\n",
        "\n",
        "goal_state = 6\n",
        "results(env, optimal_pi, goal_state=goal_state)\n"
      ],
      "metadata": {
        "colab": {
          "base_uri": "https://localhost:8080/"
        },
        "id": "UFLwRCfxCum_",
        "outputId": "5bac76f9-ee7e-41d9-dcea-d5938ca72789"
      },
      "execution_count": null,
      "outputs": [
        {
          "output_type": "stream",
          "name": "stdout",
          "text": [
            "Reaches goal 0.00%.Obtains an average undiscounted return of: 0.0000.\n"
          ]
        }
      ]
    },
    {
      "cell_type": "code",
      "source": [],
      "metadata": {
        "id": "dcgeU79yCwHN"
      },
      "execution_count": null,
      "outputs": []
    }
  ],
  "metadata": {
    "colab": {
      "provenance": []
    },
    "kernelspec": {
      "display_name": "Python 3",
      "name": "python3"
    },
    "language_info": {
      "name": "python"
    }
  },
  "nbformat": 4,
  "nbformat_minor": 0
}